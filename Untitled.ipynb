{
 "cells": [
  {
   "cell_type": "code",
   "execution_count": 1,
   "id": "dbe8d80c",
   "metadata": {},
   "outputs": [],
   "source": [
    "text = \"147,4661,\\\"Baldwin, Riley and Jackson\\\",Pre-emptive tertiary standardization,100.0,0.0,failed,0,CA,CAD,2020-02-13,2021-03-01,cat1,scat1\""
   ]
  },
  {
   "cell_type": "code",
   "execution_count": 2,
   "id": "d1ccf5fb",
   "metadata": {},
   "outputs": [
    {
     "name": "stdout",
     "output_type": "stream",
     "text": [
      "['147', '4661', '\"Baldwin', ' Riley and Jackson\"', 'Pre-emptive tertiary standardization', '100.0', '0.0', 'failed', '0', 'CA', 'CAD', '2020-02-13', '2021-03-01', 'cat1', 'scat1']\n"
     ]
    }
   ],
   "source": [
    "list = text.split(\",\")\n",
    "print(list)"
   ]
  },
  {
   "cell_type": "code",
   "execution_count": null,
   "id": "dc72d366",
   "metadata": {},
   "outputs": [],
   "source": [
    "text = \"147,4661,\\\"Baldwin, Riley and Jackson\\\",Pre-emptive tertiary standardization,100.0,0.0,failed,0,CA,CAD,2020-02-13,2021-03-01,cat1,scat1\""
   ]
  },
  {
   "cell_type": "code",
   "execution_count": 3,
   "id": "5bdd6373",
   "metadata": {},
   "outputs": [
    {
     "name": "stdout",
     "output_type": "stream",
     "text": [
      "['147', '4661', '\"Baldwin', ' Riley and Jackson\"', 'Pre-emptive tertiary standardization', '100.0', '0.0', 'failed', '0', 'CA', 'CAD', '2020-02-13', '2021-03-01', 'cat1', 'scat1']\n"
     ]
    }
   ],
   "source": [
    "list = text.split(\",\")\n",
    "print(list)"
   ]
  },
  {
   "cell_type": "code",
   "execution_count": null,
   "id": "45cf4fbe",
   "metadata": {},
   "outputs": [],
   "source": []
  }
 ],
 "metadata": {
  "kernelspec": {
   "display_name": "Python 3 (ipykernel)",
   "language": "python",
   "name": "python3"
  },
  "language_info": {
   "codemirror_mode": {
    "name": "ipython",
    "version": 3
   },
   "file_extension": ".py",
   "mimetype": "text/x-python",
   "name": "python",
   "nbconvert_exporter": "python",
   "pygments_lexer": "ipython3",
   "version": "3.11.4"
  }
 },
 "nbformat": 4,
 "nbformat_minor": 5
}
